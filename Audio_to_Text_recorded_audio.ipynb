{
 "cells": [
  {
   "cell_type": "markdown",
   "metadata": {},
   "source": [
    "### Audio_to _text \n",
    "##### This code is designed to convert any audio or video clip into text format. It primarily utilizes libraries like Speech Recognition, PyAutoGUI, Pyperclip, time, PyDub, and AudioSegment for this functionality."
   ]
  },
  {
   "cell_type": "markdown",
   "metadata": {},
   "source": [
    "##### Setting up the necessary libraries and tools"
   ]
  },
  {
   "cell_type": "code",
   "execution_count": 1,
   "metadata": {},
   "outputs": [],
   "source": [
    "import speech_recognition as sr\n",
    "import pyautogui\n",
    "import pyperclip\n",
    "import time\n",
    "from pydub import AudioSegment\n",
    "import os"
   ]
  },
  {
   "cell_type": "code",
   "execution_count": 2,
   "metadata": {},
   "outputs": [],
   "source": [
    "def convert_to_wav(audio_file_path):\n",
    "    audio = AudioSegment.from_file(audio_file_path)\n",
    "    wav_file_path = os.path.splitext(audio_file_path)[0] + \".wav\"\n",
    "    audio.export(wav_file_path, format=\"wav\")\n",
    "    return wav_file_path"
   ]
  },
  {
   "cell_type": "code",
   "execution_count": 3,
   "metadata": {},
   "outputs": [],
   "source": [
    "def voice_typing_from_file(audio_file_path):\n",
    "    recognizer = sr.Recognizer()\n",
    "    wav_file_path = convert_to_wav(audio_file_path)  # Convert to WAV format\n",
    "\n",
    "    try:\n",
    "        with sr.AudioFile(wav_file_path) as source:\n",
    "            print(\"Processing audio file...\")\n",
    "            audio = recognizer.record(source)\n",
    "\n",
    "        text = recognizer.recognize_google(audio, language='te-IN')\n",
    "        print(\"Recognized:\", text)\n",
    "\n",
    "        # Simulate typing at the current cursor position\n",
    "        #current_pos = pyautogui.position()\n",
    "        #pyautogui.click(current_pos.x, current_pos.y)\n",
    "\n",
    "        # Add a delay before typing to ensure the text box is ready\n",
    "        #time.sleep(1)\n",
    "\n",
    "        #pyperclip.copy(text)  # Copy recognized text to clipboard\n",
    "        #pyautogui.hotkey('ctrl', 'v')  # Paste text using keyboard shortcut\n",
    "\n",
    "    except sr.UnknownValueError:\n",
    "        print(\"Sorry, could not understand audio.\")\n",
    "    except sr.RequestError as e:\n",
    "        print(\"Could not request results; {0}\".format(e))\n",
    "    except Exception as e:\n",
    "        print(\"An error occurred:\", e)\n",
    "    finally:\n",
    "        if os.path.exists(wav_file_path):\n",
    "            os.remove(wav_file_path)  # Clean up the temporary WAV file\n"
   ]
  },
  {
   "cell_type": "code",
   "execution_count": 4,
   "metadata": {},
   "outputs": [
    {
     "name": "stdout",
     "output_type": "stream",
     "text": [
      "Processing audio file...\n",
      "Recognized: మీరు రాసిన పుస్తకాలు ఏంటి మీరు మాట్లాడితేనే ఈ నేల మీద నడిచిన మనిషి అతను చెప్పిన ధర్మం మతం కాదు మన జీవితం గీతతో కోట్ల మందికి దారి చూపించిన అతని కన్నా గురువు ఎవరు రక్షణ కోసం సముద్రం మధ్యలో ద్వారకా నగరాన్ని కట్టిన అతని కన్నా గొప్ప ఆర్కిటెక్చర్ ఎవరు మాట చెప్పి అతని కన్నా గొప్ప సైకాలజిస్ట్ ఎవరు వేణు గానం తోనే google నీ గోపికలను కట్టిపడేసే అతని మించిన మెజీషియన్ నిత్య ఆరోగ్యంతో ఉండే సూచనలు చెప్పిన అతనికి మించిన డాక్టర్ ఎవరు ధర్మం కోసం యుద్ధం చేయమని చెప్పిన అతని మించిన వీరుడు ఎవరు కష్టం తెలియకుండా చూసుకున్న అతని మించిన రాజు ఎవరు వసంతం తెప్పించిన అతనికన్నా ప్రకృతిని అర్థం చేసుకున్న క్లైమేట్ ఆలోచిస్తే ఎవరు కంట్రోల్ ఆర్ పి ఎం తో తిరిగే సుదర్శన చక్రాన్ని కంట్రోల్ చేసే అతనికి మించిన ఎవరు ఫైట్ సింగ్ హిజ్ మోర్ మోర్ మోర్ మోర్ మోర్ మోర్ మోర్ మోర్ మోర్ మోర్ మోర్ మోర్ మోర్ మోర్ మోర్\n"
     ]
    }
   ],
   "source": [
    "if __name__ == \"__main__\":\n",
    "    # Specify the path to the audio file you want to process\n",
    "    audio_file_path =\"D:\\\\Inputs & Outputs\\\\Extract audio clip from video.mp3\"  \n",
    "    voice_typing_from_file(audio_file_path)"
   ]
  },
  {
   "cell_type": "code",
   "execution_count": null,
   "metadata": {},
   "outputs": [],
   "source": []
  },
  {
   "cell_type": "code",
   "execution_count": null,
   "metadata": {},
   "outputs": [],
   "source": []
  },
  {
   "cell_type": "code",
   "execution_count": null,
   "metadata": {},
   "outputs": [],
   "source": []
  },
  {
   "cell_type": "code",
   "execution_count": null,
   "metadata": {},
   "outputs": [],
   "source": []
  },
  {
   "cell_type": "code",
   "execution_count": null,
   "metadata": {},
   "outputs": [],
   "source": []
  },
  {
   "cell_type": "code",
   "execution_count": null,
   "metadata": {},
   "outputs": [],
   "source": []
  },
  {
   "cell_type": "code",
   "execution_count": null,
   "metadata": {},
   "outputs": [],
   "source": []
  },
  {
   "cell_type": "code",
   "execution_count": null,
   "metadata": {},
   "outputs": [],
   "source": []
  },
  {
   "cell_type": "code",
   "execution_count": null,
   "metadata": {},
   "outputs": [],
   "source": []
  },
  {
   "cell_type": "code",
   "execution_count": null,
   "metadata": {},
   "outputs": [],
   "source": []
  },
  {
   "cell_type": "code",
   "execution_count": null,
   "metadata": {},
   "outputs": [],
   "source": []
  },
  {
   "cell_type": "code",
   "execution_count": null,
   "metadata": {},
   "outputs": [],
   "source": []
  },
  {
   "cell_type": "code",
   "execution_count": null,
   "metadata": {},
   "outputs": [],
   "source": []
  },
  {
   "cell_type": "code",
   "execution_count": null,
   "metadata": {},
   "outputs": [],
   "source": []
  },
  {
   "cell_type": "code",
   "execution_count": null,
   "metadata": {},
   "outputs": [],
   "source": []
  },
  {
   "cell_type": "code",
   "execution_count": null,
   "metadata": {},
   "outputs": [],
   "source": []
  },
  {
   "cell_type": "code",
   "execution_count": null,
   "metadata": {},
   "outputs": [],
   "source": []
  },
  {
   "cell_type": "code",
   "execution_count": null,
   "metadata": {},
   "outputs": [],
   "source": []
  },
  {
   "cell_type": "code",
   "execution_count": null,
   "metadata": {},
   "outputs": [],
   "source": []
  }
 ],
 "metadata": {
  "kernelspec": {
   "display_name": "Python 3",
   "language": "python",
   "name": "python3"
  },
  "language_info": {
   "codemirror_mode": {
    "name": "ipython",
    "version": 3
   },
   "file_extension": ".py",
   "mimetype": "text/x-python",
   "name": "python",
   "nbconvert_exporter": "python",
   "pygments_lexer": "ipython3",
   "version": "3.10.0"
  }
 },
 "nbformat": 4,
 "nbformat_minor": 2
}
